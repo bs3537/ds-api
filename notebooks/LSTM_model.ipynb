{
 "cells": [
  {
   "cell_type": "code",
   "execution_count": 1,
   "metadata": {},
   "outputs": [],
   "source": [
    "import pandas as pd"
   ]
  },
  {
   "cell_type": "code",
   "execution_count": 2,
   "metadata": {},
   "outputs": [],
   "source": [
    "cannabis = pd.read_csv('..\\data\\cannabis.csv')\n",
    "disease = pd.read_csv('..\\data\\Disease.csv')"
   ]
  },
  {
   "cell_type": "code",
   "execution_count": 4,
   "metadata": {},
   "outputs": [
    {
     "name": "stdout",
     "output_type": "stream",
     "text": [
      "           Strain    Type  Rating                                     Effects  \\\n",
      "0          100-Og  hybrid     4.0  Creative,Energetic,Tingly,Euphoric,Relaxed   \n",
      "1  98-White-Widow  hybrid     4.7    Relaxed,Aroused,Creative,Happy,Energetic   \n",
      "2            1024  sativa     4.4   Uplifted,Happy,Relaxed,Energetic,Creative   \n",
      "3        13-Dawgs  hybrid     4.2     Tingly,Creative,Hungry,Relaxed,Uplifted   \n",
      "4        24K-Gold  hybrid     4.6   Happy,Relaxed,Euphoric,Uplifted,Talkative   \n",
      "\n",
      "                      Flavor  \\\n",
      "0        Earthy,Sweet,Citrus   \n",
      "1      Flowery,Violet,Diesel   \n",
      "2    Spicy/Herbal,Sage,Woody   \n",
      "3  Apricot,Citrus,Grapefruit   \n",
      "4       Citrus,Earthy,Orange   \n",
      "\n",
      "                                         Description  \n",
      "0  $100 OG is a 50/50 hybrid strain that packs a ...  \n",
      "1  The ‘98 Aloha White Widow is an especially pot...  \n",
      "2  1024 is a sativa-dominant hybrid bred in Spain...  \n",
      "3  13 Dawgs is a hybrid of G13 and Chemdawg genet...  \n",
      "4  Also known as Kosher Tangie, 24k Gold is a 60%...  \n",
      "          condition        daily_dosage  \\\n",
      "0     Cancer - Pain  17mg THC, 16mg CBD   \n",
      "1   Cancer - Nausea         10-18mg THC   \n",
      "2  Cancer - Wasting         10-15mg THC   \n",
      "3          Glaucoma             5mg THC   \n",
      "4          HIV/AIDS           5-7mg THC   \n",
      "\n",
      "                                            schedule         method  \n",
      "0                                   6 sprays per day          spray  \n",
      "1  1 hr prior to chemo, every 2-4 hrs over 12-24 ...  plant-derived  \n",
      "2                      3-4 times daily on chemo days  plant-derived  \n",
      "3                                             1 dose            NaN  \n",
      "4                                          2-3 doses            NaN  \n"
     ]
    }
   ],
   "source": [
    "print(cannabis.head())\n",
    "print(disease.head())"
   ]
  },
  {
   "cell_type": "code",
   "execution_count": 6,
   "metadata": {},
   "outputs": [
    {
     "name": "stdout",
     "output_type": "stream",
     "text": [
      "Strain          0\n",
      "Type            0\n",
      "Rating          0\n",
      "Effects         0\n",
      "Flavor         46\n",
      "Description    33\n",
      "dtype: int64\n",
      "condition       0\n",
      "daily_dosage    0\n",
      "schedule        0\n",
      "method          6\n",
      "dtype: int64\n"
     ]
    }
   ],
   "source": [
    "print(cannabis.isna().sum())\n",
    "print(disease.isna().sum())"
   ]
  },
  {
   "cell_type": "code",
   "execution_count": null,
   "metadata": {},
   "outputs": [],
   "source": []
  }
 ],
 "metadata": {
  "kernelspec": {
   "display_name": "Python 3",
   "language": "python",
   "name": "python3"
  },
  "language_info": {
   "codemirror_mode": {
    "name": "ipython",
    "version": 3
   },
   "file_extension": ".py",
   "mimetype": "text/x-python",
   "name": "python",
   "nbconvert_exporter": "python",
   "pygments_lexer": "ipython3",
   "version": "3.7.3"
  }
 },
 "nbformat": 4,
 "nbformat_minor": 4
}
